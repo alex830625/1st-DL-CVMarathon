{
 "cells": [
  {
   "cell_type": "code",
   "execution_count": 1,
   "metadata": {},
   "outputs": [],
   "source": [
    "import cv2\n",
    "import numpy as np\n",
    "\n",
    "img_path = '/Users/Alex/Documents/GitHub/1st-DL-CVMarathon/homework/img/lena.png'\n",
    "img =cv2.imread(img_path)\n",
    "\n",
    "#模糊\n",
    "img_blur = img.copy()\n",
    "\n",
    "# 重複多次 Gaussian 模糊的操作來加深模糊的程度\n",
    "img_blur = cv2.GaussianBlur(img_blur, (5,5), 0)\n",
    "img_blur = cv2.GaussianBlur(img_blur, (5,5), 0)\n",
    "img_blur = cv2.GaussianBlur(img_blur, (5,5), 0)\n",
    "\n",
    "#顯示圖片\n",
    "\n",
    "img_show = np.hstack((img, img_blur))\n",
    "cv2.imshow('GaussianBlur', img_show)\n",
    "cv2.waitKey(0)\n",
    "cv2.destroyAllWindows()"
   ]
  },
  {
   "cell_type": "code",
   "execution_count": 8,
   "metadata": {},
   "outputs": [],
   "source": [
    "import cv2\n",
    "import numpy as np\n",
    "\n",
    "img_path = '/Users/Alex/Documents/GitHub/1st-DL-CVMarathon/homework/img/lena.png'\n",
    "img =cv2.imread(img_path)\n",
    "img_gray = cv2.cvtColor(img, cv2.COLOR_BGR2GRAY)\n",
    "\n",
    "# 對 x 方向做 Sobel 邊緣檢測\n",
    "# cv2.CV_16S 原本的圖片是 uint8 (非負整數) 格式觀察 Sobel filter 可以發現有負數所以我們希望運算過程中⽤用 int16\n",
    "# dx 代表求導次數，0 代表不用求導\n",
    "img_sobel_x = cv2.Sobel(img_gray, cv2.CV_16S, dx=1, dy=0, ksize=3)\n",
    "# 把值處理為非負整數\n",
    "img_x = cv2.convertScaleAbs(img_sobel_x)\n",
    "\n",
    "# 對 y 方向做 Sobel 邊緣檢測\n",
    "img_sobel_y = cv2.Sobel(img_gray, cv2.CV_16S, dx=0, dy=1, ksize=3)\n",
    "img_y = cv2.convertScaleAbs(img_sobel_y)\n",
    "\n",
    "#組合X、Y方向\n",
    "img_sobel = cv2.addWeighted(img_x, 0.5, img_y, 0.5, 0)\n",
    "\n",
    "#顯示圖片\n",
    "img_show = np.hstack((img_x, img_y, img_sobel))\n",
    "cv2.imshow('img_show', img_show)\n",
    "cv2.waitKey(0)\n",
    "cv2.destroyAllWindows()"
   ]
  },
  {
   "cell_type": "code",
   "execution_count": null,
   "metadata": {},
   "outputs": [],
   "source": []
  },
  {
   "cell_type": "code",
   "execution_count": null,
   "metadata": {},
   "outputs": [],
   "source": []
  }
 ],
 "metadata": {
  "kernelspec": {
   "display_name": "Python 3",
   "language": "python",
   "name": "python3"
  },
  "language_info": {
   "codemirror_mode": {
    "name": "ipython",
    "version": 3
   },
   "file_extension": ".py",
   "mimetype": "text/x-python",
   "name": "python",
   "nbconvert_exporter": "python",
   "pygments_lexer": "ipython3",
   "version": "3.7.4"
  }
 },
 "nbformat": 4,
 "nbformat_minor": 2
}
