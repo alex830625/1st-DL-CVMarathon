{
 "cells": [
  {
   "cell_type": "code",
   "execution_count": 15,
   "metadata": {},
   "outputs": [
    {
     "name": "stdout",
     "output_type": "stream",
     "text": [
      "Rotation Matrix\n",
      "[[  0.35355339   0.35355339  74.98066402]\n",
      " [ -0.35355339   0.35355339 256.        ]]\n",
      "\n",
      "Translation Matrix\n",
      "[[  1.   0. 100.]\n",
      " [  0.   1. -50.]]\n",
      "\n"
     ]
    }
   ],
   "source": [
    "import cv2\n",
    "import numpy as np\n",
    "import time\n",
    "\n",
    "img_path = '/Users/Alex/Documents/GitHub/1st-DL-CVMarathon/homework/img/lena.png'\n",
    "img = cv2.imread(img_path, cv2.IMREAD_COLOR)\n",
    "\n",
    "#取得圖片的資訊，即print(img.shape)可看到的列跟欄 [:2]表示集合中的第1和2個元素0、1、2，包頭不包尾\n",
    "\n",
    "rows, cols = img.shape[:2]\n",
    "\n",
    "# 取得旋轉矩陣 (中心點、旋轉角度、縮放程度)\n",
    "# getRotationMatrix2D(center, angle, scale)\n",
    "\n",
    "M_rotate = cv2.getRotationMatrix2D((rows//2, cols//2), 45, 0.5)\n",
    "print('Rotation Matrix')\n",
    "print(M_rotate)\n",
    "print()\n",
    "\n",
    "#取得平移矩陣\n",
    "M_translate= np.array([[1,0,100],[0,1,-50]],dtype=np.float32)\n",
    "print('Translation Matrix')\n",
    "print(M_translate)\n",
    "print()\n",
    "\n",
    "#旋轉 cv2.warpAffine 圖片、變換矩陣、變換後的圖片大小\n",
    "img_rotate=cv2.warpAffine(img, M_rotate, (rows, cols))\n",
    "\n",
    "#平移\n",
    "img_rotate_trans = cv2.warpAffine(img_rotate, M_translate, (rows, cols))\n",
    "\n",
    "# 組合 + 顯示圖片\n",
    "img_show_rotate_trans = np.hstack((img, img_rotate, img_rotate_trans))\n",
    "cv2.imshow('Rotate 45, scale 0.5, Translate x+100, y-50', img_show_rotate_trans)\n",
    "cv2.waitKey(0)\n",
    "cv2.destroyAllWindows()\n",
    "\n"
   ]
  },
  {
   "cell_type": "code",
   "execution_count": 19,
   "metadata": {},
   "outputs": [
    {
     "ename": "error",
     "evalue": "OpenCV(4.1.2) C:\\projects\\opencv-python\\opencv\\modules\\imgproc\\src\\imgwarp.cpp:2603: error: (-215:Assertion failed) (M0.type() == CV_32F || M0.type() == CV_64F) && M0.rows == 2 && M0.cols == 3 in function 'cv::warpAffine'\n",
     "output_type": "error",
     "traceback": [
      "\u001b[1;31m---------------------------------------------------------------------------\u001b[0m",
      "\u001b[1;31merror\u001b[0m                                     Traceback (most recent call last)",
      "\u001b[1;32m<ipython-input-19-519d120f17b5>\u001b[0m in \u001b[0;36m<module>\u001b[1;34m\u001b[0m\n\u001b[0;32m     17\u001b[0m \u001b[1;31m# 取得 affine 矩陣並做 affine 操作\u001b[0m\u001b[1;33m\u001b[0m\u001b[1;33m\u001b[0m\u001b[1;33m\u001b[0m\u001b[0m\n\u001b[0;32m     18\u001b[0m \u001b[1;33m\u001b[0m\u001b[0m\n\u001b[1;32m---> 19\u001b[1;33m \u001b[0mM_affine\u001b[0m \u001b[1;33m=\u001b[0m \u001b[0mcv2\u001b[0m\u001b[1;33m.\u001b[0m\u001b[0mwarpAffine\u001b[0m\u001b[1;33m(\u001b[0m\u001b[0mimg\u001b[0m\u001b[1;33m,\u001b[0m \u001b[0mpt1\u001b[0m\u001b[1;33m,\u001b[0m \u001b[1;33m(\u001b[0m\u001b[0mrows\u001b[0m\u001b[1;33m,\u001b[0m \u001b[0mcols\u001b[0m\u001b[1;33m)\u001b[0m\u001b[1;33m)\u001b[0m\u001b[1;33m\u001b[0m\u001b[1;33m\u001b[0m\u001b[0m\n\u001b[0m\u001b[0;32m     20\u001b[0m \u001b[1;33m\u001b[0m\u001b[0m\n",
      "\u001b[1;31merror\u001b[0m: OpenCV(4.1.2) C:\\projects\\opencv-python\\opencv\\modules\\imgproc\\src\\imgwarp.cpp:2603: error: (-215:Assertion failed) (M0.type() == CV_32F || M0.type() == CV_64F) && M0.rows == 2 && M0.cols == 3 in function 'cv::warpAffine'\n"
     ]
    }
   ],
   "source": [
    "#方法二 \n",
    "\n",
    "import cv2\n",
    "import numpy as np\n",
    "import time\n",
    "\n",
    "img_path = '/Users/Alex/Documents/GitHub/1st-DL-CVMarathon/homework/img/lena.png'\n",
    "img = cv2.imread(img_path, cv2.IMREAD_COLOR)\n",
    "\n",
    "# 給定兩兩一對，共三對的點\n",
    "# 這邊我們先用手動設定三對點，一般情況下會有點的資料或是透過介面手動標記三個點\n",
    "\n",
    "rows, cols = img.shape[:2]\n",
    "pt1 = np.array([[50,50],[300,100],[200,300]], dtype = np.float32)\n",
    "pt2 = np.array([[80,80],[330,150],[300,300]], dtype = np.float32)\n",
    "\n",
    "# 取得 affine 矩陣並做 affine 操作\n",
    "\n",
    "M_affine = cv2.warpAffine(img, pt1, (rows, cols))\n",
    "\n"
   ]
  },
  {
   "cell_type": "code",
   "execution_count": null,
   "metadata": {},
   "outputs": [],
   "source": []
  }
 ],
 "metadata": {
  "kernelspec": {
   "display_name": "Python 3",
   "language": "python",
   "name": "python3"
  },
  "language_info": {
   "codemirror_mode": {
    "name": "ipython",
    "version": 3
   },
   "file_extension": ".py",
   "mimetype": "text/x-python",
   "name": "python",
   "nbconvert_exporter": "python",
   "pygments_lexer": "ipython3",
   "version": "3.7.4"
  }
 },
 "nbformat": 4,
 "nbformat_minor": 2
}
