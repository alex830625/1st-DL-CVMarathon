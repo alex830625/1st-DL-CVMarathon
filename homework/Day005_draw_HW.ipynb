{
 "cells": [
  {
   "cell_type": "code",
   "execution_count": 7,
   "metadata": {},
   "outputs": [],
   "source": [
    "import cv2\n",
    "import numpy as np\n",
    "\n",
    "img_path = '/Users/Alex/Documents/GitHub/1st-DL-CVMarathon/homework/img/lena.png'\n",
    "img = cv2.imread(img_path, cv2.IMREAD_COLOR)\n",
    "\n",
    "img_hsv = cv2.cvtColor(img, cv2.COLOR_BGR2HSV)\n",
    "img_hsv[..., -1] = cv2.equalizeHist(img_hsv[..., -1])\n",
    "img_hsv_equal = cv2.cvtColor(img_hsv, cv2.COLOR_HSV2BGR)\n",
    "img_flip = img_hsv_equal[:, ::-1, :]\n",
    "img_small = cv2.resize(img_flip, None, fx=0.5, fy=0.5, interpolation = cv2.INTER_NEAREST)\n",
    "\n",
    "img_small_board = cv2.rectangle(img_small,(30,20),(210,255),(0,0,255),3)\n",
    "#新的矩形邊框為(30,20) (210,20) (30,255) (210,255) \n",
    "\n",
    "\n",
    "cv2.imshow('img_flip', img_small_board)\n",
    "cv2.waitKey(0)\n",
    "cv2.destroyAllWindows()"
   ]
  },
  {
   "cell_type": "code",
   "execution_count": null,
   "metadata": {},
   "outputs": [],
   "source": []
  },
  {
   "cell_type": "code",
   "execution_count": null,
   "metadata": {},
   "outputs": [],
   "source": []
  },
  {
   "cell_type": "code",
   "execution_count": null,
   "metadata": {},
   "outputs": [],
   "source": []
  }
 ],
 "metadata": {
  "kernelspec": {
   "display_name": "Python 3",
   "language": "python",
   "name": "python3"
  },
  "language_info": {
   "codemirror_mode": {
    "name": "ipython",
    "version": 3
   },
   "file_extension": ".py",
   "mimetype": "text/x-python",
   "name": "python",
   "nbconvert_exporter": "python",
   "pygments_lexer": "ipython3",
   "version": "3.7.4"
  }
 },
 "nbformat": 4,
 "nbformat_minor": 2
}
