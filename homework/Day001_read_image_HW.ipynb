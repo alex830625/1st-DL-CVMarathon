{
 "cells": [
  {
   "cell_type": "code",
   "execution_count": 10,
   "metadata": {},
   "outputs": [],
   "source": [
    "import cv2\n",
    "import numpy as np\n",
    "import matplotlib.pyplot as plt\n",
    "\n",
    "img_path = '/Users/Alex/Documents/GitHub/1st-DL-CVMarathon/homework/img/lena.png'\n",
    "\n",
    "\n",
    "\n",
    "img = cv2.imread(img_path, cv2.IMREAD_COLOR)\n",
    "img_gray = cv2.imread(img_path, cv2.IMREAD_GRAYSCALE)\n",
    "b,g,r = cv2.split(img)\n",
    "\n",
    "\n",
    "\n",
    "\n",
    "cv2.imshow('color',img)\n",
    "cv2.imshow('gray',img_gray)\n",
    "cv2.imshow('blue',b)\n",
    "cv2.imshow('green',g)\n",
    "cv2.imshow('red',r)\n",
    "\n",
    "\n",
    "\n",
    "\n",
    "cv2.waitKey(0) \n",
    "cv2.destroyAllWindows() \n"
   ]
  },
  {
   "cell_type": "code",
   "execution_count": null,
   "metadata": {},
   "outputs": [],
   "source": []
  }
 ],
 "metadata": {
  "kernelspec": {
   "display_name": "Python 3",
   "language": "python",
   "name": "python3"
  },
  "language_info": {
   "codemirror_mode": {
    "name": "ipython",
    "version": 3
   },
   "file_extension": ".py",
   "mimetype": "text/x-python",
   "name": "python",
   "nbconvert_exporter": "python",
   "pygments_lexer": "ipython3",
   "version": "3.7.4"
  }
 },
 "nbformat": 4,
 "nbformat_minor": 2
}
